{
 "cells": [
  {
   "cell_type": "code",
   "execution_count": 1,
   "metadata": {},
   "outputs": [],
   "source": [
    "from google import genai\n",
    "import os\n",
    "from dotenv import load_dotenv\n",
    "import json\n"
   ]
  },
  {
   "cell_type": "code",
   "execution_count": 2,
   "metadata": {},
   "outputs": [],
   "source": [
    "load_dotenv()\n",
    "gemini_api_key = os.getenv(\"GEMINI_API_KEY\")"
   ]
  },
  {
   "cell_type": "code",
   "execution_count": 3,
   "metadata": {},
   "outputs": [],
   "source": [
    "client = genai.Client(api_key=gemini_api_key)"
   ]
  },
  {
   "cell_type": "code",
   "execution_count": 4,
   "metadata": {},
   "outputs": [
    {
     "name": "stdout",
     "output_type": "stream",
     "text": [
      "Text: I want to place an order for two T-shirts.\n",
      "Category: new_order\n",
      "\n",
      "Text: Do you have the black shoes in size 10?\n",
      "Category: new_order\n",
      "\n",
      "Text: Can I buy 5 units of your protein powder?\n",
      "Category: new_order\n",
      "\n",
      "Text: I’m interested in your skincare bundle. How can I order?\n",
      "Category: new_order\n",
      "\n",
      "Text: Is the winter jacket still available for purchase?\n",
      "Category: new_order\n",
      "\n"
     ]
    }
   ],
   "source": [
    "# Load the training dataset using relative path\n",
    "with open(\"../data/training.json\", \"r\") as f:\n",
    "    data = json.load(f)\n",
    "\n",
    "messages = data[\"messages\"]\n",
    "\n",
    "# Show a few samples\n",
    "for msg in messages[:5]:\n",
    "    print(f\"Text: {msg['message']}\\nCategory: {msg['category']}\\n\")"
   ]
  },
  {
   "cell_type": "code",
   "execution_count": 32,
   "metadata": {},
   "outputs": [],
   "source": [
    "# models = \"gemini-2.0-flash\"\n",
    "def classify_message_with_gemini(text):\n",
    "    prompt = f\"\"\"You are an AI assistant that classifies WhatsApp messages into one of the following categories:\n",
    "\n",
    "1. new_order - Customer shows clear intent to purchase something.\n",
    "2. order_status - Asks about delivery, tracking, or the progress of an existing order.\n",
    "3. general_inquiry - Questions about product details, pricing, store hours, payment options, or company policies.\n",
    "4. complaint - Expressions of dissatisfaction or reports of a bad experience (e.g., broken item, late delivery, faulty service).\n",
    "5. return_refund - Clear requests for returns, refunds, or exchanges.\n",
    "6. follow_up - Refers to a previous conversation or nudges for a reply.\n",
    "7. feedback - Reviews, suggestions, compliments, or general opinions.\n",
    "8. others - Any message that doesn’t fit the above.\n",
    "\n",
    "Classify the following message:\n",
    "\n",
    "\"{text}\"\n",
    "\n",
    "Reply with only the category name.\"\"\"\n",
    "    \n",
    "    response = client.models.generate_content(model=\"gemini-2.0-flash-lite\",contents=prompt)\n",
    "    \n",
    "    return response.text\n",
    "\n",
    "    \n",
    "# sample = messages[57]\n",
    "# predicted = classify_message_with_gemini(sample[\"message\"])\n",
    "\n",
    "# print(\"Text:\", sample[\"message\"])\n",
    "# print(\"Actual Category:\", sample[\"category\"])\n",
    "# print(\"Predicted Category:\", predicted)\n",
    "    "
   ]
  },
  {
   "cell_type": "code",
   "execution_count": null,
   "metadata": {},
   "outputs": [],
   "source": [
    "\n"
   ]
  },
  {
   "cell_type": "code",
   "execution_count": 35,
   "metadata": {},
   "outputs": [
    {
     "name": "stdout",
     "output_type": "stream",
     "text": [
      "  1. Text: It’s been a week, still no update on my order.\n",
      "   Actual: order_status | Predicted: order_status\n",
      "\n",
      "  2. Text: Is my order out for delivery today?\n",
      "   Actual: order_status | Predicted: order_status\n",
      "\n",
      "  3. Text: Awaiting confirmation.\n",
      "   Actual: follow_up | Predicted: follow_up\n",
      "\n",
      "  4. Text: Please escalate this.\n",
      "   Actual: follow_up | Predicted: follow_up\n",
      "\n",
      "  5. Text: Checking in again on this.\n",
      "   Actual: follow_up | Predicted: follow_up\n",
      "\n",
      "  6. Text: Do you offer international shipping?\n",
      "   Actual: general_inquiry | Predicted: general_inquiry\n",
      "\n",
      "  7. Text: Want to return the product due to late delivery.\n",
      "   Actual: return_refund | Predicted: return_refund\n",
      "\n",
      "  8. Text: Did you receive my payment for order #999?\n",
      "   Actual: order_status | Predicted: order_status\n",
      "\n",
      "  9. Text: Your website shows shipped but no updates from the courier.\n",
      "   Actual: order_status | Predicted: order_status\n",
      "\n",
      " 10. Text: This is not what I ordered.\n",
      "   Actual: complaint | Predicted: complaint\n",
      "\n",
      "\n",
      " Accuracy: 100.00% (10/10)\n"
     ]
    }
   ],
   "source": [
    "import random\n",
    "results=[]\n",
    "correct=0\n",
    "selected_messages =10\n",
    "for i, msg in enumerate(random.sample(messages, selected_messages), start=1):\n",
    "    text = msg[\"message\"]\n",
    "    actual = msg[\"category\"]\n",
    "    \n",
    "    response = classify_message_with_gemini(msg)\n",
    "    predicted = response.strip()\n",
    "    results.append({\n",
    "    \"message\": text,\n",
    "    \"actual\": actual,\n",
    "    \"predicted\": predicted\n",
    "    })\n",
    "    if predicted == actual:\n",
    "        correct += 1\n",
    "\n",
    "    print(f\"{i:>3}. Text: {text}\")\n",
    "    print(f\"   Actual: {actual} | Predicted: {predicted}\\n\")\n",
    "    \n",
    "accuracy = correct / selected_messages\n",
    "print(f\"\\n Accuracy: {accuracy:.2%} ({correct}/{selected_messages})\")"
   ]
  },
  {
   "cell_type": "code",
   "execution_count": null,
   "metadata": {},
   "outputs": [],
   "source": []
  }
 ],
 "metadata": {
  "kernelspec": {
   "display_name": "Python 3.11",
   "language": "python",
   "name": "python3.11"
  },
  "language_info": {
   "codemirror_mode": {
    "name": "ipython",
    "version": 3
   },
   "file_extension": ".py",
   "mimetype": "text/x-python",
   "name": "python",
   "nbconvert_exporter": "python",
   "pygments_lexer": "ipython3",
   "version": "3.11.10"
  }
 },
 "nbformat": 4,
 "nbformat_minor": 4
}
